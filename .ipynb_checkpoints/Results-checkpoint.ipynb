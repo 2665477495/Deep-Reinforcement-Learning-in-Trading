{
 "cells": [
  {
   "cell_type": "code",
   "execution_count": 32,
   "metadata": {},
   "outputs": [],
   "source": [
    "import pandas as pd\n",
    "import numpy as np\n",
    "import os\n",
    "import glob\n",
    "import warnings\n",
    "warnings.filterwarnings('ignore')\n",
    "\n",
    "from Main import World\n",
    "from Analytics.Trade_Analytics import sharpe_calc\n",
    "from Analytics.Training_Analytics import loss_vis, reward_vis"
   ]
  },
  {
   "cell_type": "code",
   "execution_count": 2,
   "metadata": {},
   "outputs": [
    {
     "data": {
      "text/plain": [
       "['./Data\\\\AAL_data.csv',\n",
       " './Data\\\\AAPL_data.csv',\n",
       " './Data\\\\AAP_data.csv',\n",
       " './Data\\\\ABBV_data.csv',\n",
       " './Data\\\\ABC_data.csv',\n",
       " './Data\\\\ABT_data.csv',\n",
       " './Data\\\\ACN_data.csv',\n",
       " './Data\\\\ADBE_data.csv',\n",
       " './Data\\\\A_data.csv']"
      ]
     },
     "execution_count": 2,
     "metadata": {},
     "output_type": "execute_result"
    }
   ],
   "source": [
    "stocks_csv=glob.glob(r\"./Data/*.csv\")\n",
    "stocks_csv"
   ]
  },
  {
   "cell_type": "code",
   "execution_count": 24,
   "metadata": {},
   "outputs": [
    {
     "name": "stdout",
     "output_type": "stream",
     "text": [
      "Reward = 4.00\n",
      "Reward = -0.31\n"
     ]
    }
   ],
   "source": [
    "train_test_split=0.75\n",
    "buy_and_hold_sharp=[]\n",
    "symbol=[]\n",
    "results_dict={}\n",
    "strategy_sharpe=[]\n",
    "for stocks in stocks_csv[:2]:\n",
    "    results=World(filename=stocks,train_test_split=train_test_split)\n",
    "    \n",
    "    df=pd.read_csv(stocks).iloc[int(split*len(df)):,:]\n",
    "    returns=df.close.pct_change()\n",
    "#     buy_and_hold_sharp.append(np.mean(returns)/np.std(returns))\n",
    "    symbol.append(df.Name.iloc[0])\n",
    "    \n",
    "    results['buy_and_hold_sharpe']=np.mean(returns)/np.std(returns)\n",
    "    results['strategy_sharpe']=sharpe_calc(results['trades_df'])\n",
    "#     strategy_sharpe.append(sharpe_calc(results['trades_df']))\n",
    "    \n",
    "    results_dict[symbol[-1]]=results\n",
    "    \n",
    "    "
   ]
  },
  {
   "cell_type": "code",
   "execution_count": 30,
   "metadata": {},
   "outputs": [
    {
     "data": {
      "text/html": [
       "<div>\n",
       "<style scoped>\n",
       "    .dataframe tbody tr th:only-of-type {\n",
       "        vertical-align: middle;\n",
       "    }\n",
       "\n",
       "    .dataframe tbody tr th {\n",
       "        vertical-align: top;\n",
       "    }\n",
       "\n",
       "    .dataframe thead th {\n",
       "        text-align: right;\n",
       "    }\n",
       "</style>\n",
       "<table border=\"1\" class=\"dataframe\">\n",
       "  <thead>\n",
       "    <tr style=\"text-align: right;\">\n",
       "      <th></th>\n",
       "      <th>epsilon</th>\n",
       "      <th>loss</th>\n",
       "      <th>reward</th>\n",
       "      <th>val_loss</th>\n",
       "    </tr>\n",
       "  </thead>\n",
       "  <tbody>\n",
       "    <tr>\n",
       "      <th>0</th>\n",
       "      <td>0.90</td>\n",
       "      <td>1.861426</td>\n",
       "      <td>-76.7261</td>\n",
       "      <td>0.613128</td>\n",
       "    </tr>\n",
       "    <tr>\n",
       "      <th>1</th>\n",
       "      <td>0.80</td>\n",
       "      <td>0.946628</td>\n",
       "      <td>63.1666</td>\n",
       "      <td>0.497330</td>\n",
       "    </tr>\n",
       "    <tr>\n",
       "      <th>2</th>\n",
       "      <td>0.70</td>\n",
       "      <td>0.498160</td>\n",
       "      <td>9.6409</td>\n",
       "      <td>0.327660</td>\n",
       "    </tr>\n",
       "    <tr>\n",
       "      <th>3</th>\n",
       "      <td>0.60</td>\n",
       "      <td>0.459904</td>\n",
       "      <td>0.9923</td>\n",
       "      <td>0.505543</td>\n",
       "    </tr>\n",
       "    <tr>\n",
       "      <th>4</th>\n",
       "      <td>0.51</td>\n",
       "      <td>0.500255</td>\n",
       "      <td>16.8698</td>\n",
       "      <td>0.408181</td>\n",
       "    </tr>\n",
       "    <tr>\n",
       "      <th>5</th>\n",
       "      <td>0.41</td>\n",
       "      <td>0.431479</td>\n",
       "      <td>-3.6248</td>\n",
       "      <td>0.574819</td>\n",
       "    </tr>\n",
       "    <tr>\n",
       "      <th>6</th>\n",
       "      <td>0.31</td>\n",
       "      <td>0.431394</td>\n",
       "      <td>2.8165</td>\n",
       "      <td>0.473723</td>\n",
       "    </tr>\n",
       "    <tr>\n",
       "      <th>7</th>\n",
       "      <td>0.21</td>\n",
       "      <td>0.430596</td>\n",
       "      <td>-39.8256</td>\n",
       "      <td>0.474798</td>\n",
       "    </tr>\n",
       "    <tr>\n",
       "      <th>8</th>\n",
       "      <td>0.11</td>\n",
       "      <td>0.381213</td>\n",
       "      <td>34.7602</td>\n",
       "      <td>0.321117</td>\n",
       "    </tr>\n",
       "    <tr>\n",
       "      <th>9</th>\n",
       "      <td>0.01</td>\n",
       "      <td>0.311447</td>\n",
       "      <td>17.2458</td>\n",
       "      <td>0.348638</td>\n",
       "    </tr>\n",
       "  </tbody>\n",
       "</table>\n",
       "</div>"
      ],
      "text/plain": [
       "   epsilon      loss   reward  val_loss\n",
       "0     0.90  1.861426 -76.7261  0.613128\n",
       "1     0.80  0.946628  63.1666  0.497330\n",
       "2     0.70  0.498160   9.6409  0.327660\n",
       "3     0.60  0.459904   0.9923  0.505543\n",
       "4     0.51  0.500255  16.8698  0.408181\n",
       "5     0.41  0.431479  -3.6248  0.574819\n",
       "6     0.31  0.431394   2.8165  0.473723\n",
       "7     0.21  0.430596 -39.8256  0.474798\n",
       "8     0.11  0.381213  34.7602  0.321117\n",
       "9     0.01  0.311447  17.2458  0.348638"
      ]
     },
     "execution_count": 30,
     "metadata": {},
     "output_type": "execute_result"
    }
   ],
   "source": [
    "results_dict['AAPL'].keys()\n",
    "results_dict['AAPL']['metrics_df']"
   ]
  },
  {
   "cell_type": "code",
   "execution_count": null,
   "metadata": {},
   "outputs": [],
   "source": []
  },
  {
   "cell_type": "code",
   "execution_count": 5,
   "metadata": {},
   "outputs": [
    {
     "data": {
      "text/plain": [
       "0.0461782369191259"
      ]
     },
     "execution_count": 5,
     "metadata": {},
     "output_type": "execute_result"
    }
   ],
   "source": [
    "split=.75\n",
    "# for stocks in stocks_csv[0]:\n",
    "df=pd.read_csv(stocks_csv[0])\n",
    "split_len=int(split*len(df))\n",
    "df=df.iloc[split_len:,:]\n",
    "returns=df.close.pct_change()\n",
    "np.mean(returns)/np.std(returns)"
   ]
  },
  {
   "cell_type": "code",
   "execution_count": 11,
   "metadata": {},
   "outputs": [
    {
     "data": {
      "text/plain": [
       "'AAL'"
      ]
     },
     "execution_count": 11,
     "metadata": {},
     "output_type": "execute_result"
    }
   ],
   "source": [
    "df.Name.iloc[0]"
   ]
  },
  {
   "cell_type": "code",
   "execution_count": 6,
   "metadata": {},
   "outputs": [
    {
     "data": {
      "text/plain": [
       "2.0869725843996068"
      ]
     },
     "execution_count": 6,
     "metadata": {},
     "output_type": "execute_result"
    }
   ],
   "source": [
    "sharpe_calc(results['trades_df'])"
   ]
  },
  {
   "cell_type": "code",
   "execution_count": null,
   "metadata": {},
   "outputs": [],
   "source": []
  },
  {
   "cell_type": "code",
   "execution_count": null,
   "metadata": {},
   "outputs": [],
   "source": []
  },
  {
   "cell_type": "code",
   "execution_count": null,
   "metadata": {},
   "outputs": [],
   "source": []
  },
  {
   "cell_type": "code",
   "execution_count": null,
   "metadata": {},
   "outputs": [],
   "source": []
  }
 ],
 "metadata": {
  "kernelspec": {
   "display_name": "Python 3",
   "language": "python",
   "name": "python3"
  },
  "language_info": {
   "codemirror_mode": {
    "name": "ipython",
    "version": 3
   },
   "file_extension": ".py",
   "mimetype": "text/x-python",
   "name": "python",
   "nbconvert_exporter": "python",
   "pygments_lexer": "ipython3",
   "version": "3.6.4"
  }
 },
 "nbformat": 4,
 "nbformat_minor": 2
}
